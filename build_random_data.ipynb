{
 "cells": [
  {
   "cell_type": "code",
   "execution_count": 1,
   "metadata": {},
   "outputs": [
    {
     "data": {
      "text/plain": [
       "'\\nBuild /mnt/ebs/code/forked-context-aware-decoding/eval/apps_tmp/random_2_-1.jsonl with apps data.\\nWhere the with-context prompt would be containing random training examples\\nwith their ground-truth code.\\n'"
      ]
     },
     "execution_count": 1,
     "metadata": {},
     "output_type": "execute_result"
    }
   ],
   "source": [
    "\"\"\"\n",
    "Build /mnt/ebs/code/forked-context-aware-decoding/eval/apps_tmp/random_2_-1.jsonl with apps data.\n",
    "Where the with-context prompt would be containing random training examples\n",
    "with their ground-truth code.\n",
    "\"\"\""
   ]
  },
  {
   "cell_type": "code",
   "execution_count": 2,
   "metadata": {},
   "outputs": [],
   "source": [
    "import pandas as pd"
   ]
  },
  {
   "cell_type": "code",
   "execution_count": 3,
   "metadata": {},
   "outputs": [],
   "source": [
    "def load_data(dataset, data_type):\n",
    "    data_path_1 = f\"/mnt/ebs/code/hallucination-mitigation/data/{dataset}/{data_type}_samples_1.jsonl\"\n",
    "    data_path_2 = f\"/mnt/ebs/code/hallucination-mitigation/data/{dataset}/{data_type}_samples_2.jsonl\"\n",
    "    df_1 = pd.read_json(data_path_1, lines=True)\n",
    "    df_2 = pd.read_json(data_path_2, lines=True)\n",
    "    # combine the two dataframes\n",
    "    df = pd.concat([df_1, df_2], ignore_index=True)\n",
    "    return df"
   ]
  },
  {
   "cell_type": "code",
   "execution_count": 4,
   "metadata": {},
   "outputs": [],
   "source": [
    "train_df = load_data(\"apps\", \"train\")\n",
    "test_df = load_data(\"apps\", \"test\")"
   ]
  },
  {
   "cell_type": "code",
   "execution_count": 16,
   "metadata": {},
   "outputs": [],
   "source": [
    "num_shots = 2"
   ]
  },
  {
   "cell_type": "code",
   "execution_count": null,
   "metadata": {},
   "outputs": [],
   "source": [
    "def build_dsc_context(problem):\n",
    "    prompt = \"\\nQUESTION:\\n\"\n",
    "    prompt += problem[\"question\"]\n",
    "    fn_name = problem[\"fn_name\"]\n",
    "\n",
    "    if not fn_name:\n",
    "        call_format = \"\\nPlease write your code using Standard Input, i.e. input() and print().\"\n",
    "        prompt += call_format\n",
    "    else:\n",
    "        call_format = \"\\Please write your code using Call-Based format.\"\n",
    "        prompt += call_format\n",
    "\n",
    "    system_prompt = \"You are an expert code developer with years of experience.\"\n",
    "    user_prompt = f'''As an expert code developer with years of experience, please provide the python code based on the question. Ensure the code is enclosed within triple backticks (```) to mark the start and end of the code block.\\n{prompt}'''\n",
    "\n",
    "    prompt = f'''You are an AI programming assistant, utilizing the DeepSeek Coder model, developed by DeepSeek Company, and you only answer questions related to computer science. For politically sensitive questions, security and privacy issues, and other non-computer science questions, you will refuse to answer.\n",
    "### Instruction:\n",
    "{system_prompt}\n",
    "\n",
    "{user_prompt}\n",
    "### Response:\n",
    "'''\n",
    "    return prompt"
   ]
  },
  {
   "cell_type": "code",
   "execution_count": null,
   "metadata": {},
   "outputs": [],
   "source": [
    "output = []\n",
    "\n",
    "for i in range(10):\n",
    "    test_problem = test_df.iloc[i]\n",
    "    train_problems = train_df.sample(n=num_shots)\n",
    "\n",
    "    line_with_context = {\n",
    "        \"input_index\": test_problem[\"task_id\"],\n",
    "        \"assigned_model\": \"deepseek-ai/deepseek-coder-6.7b-base\",\n",
    "        \"assigned_process\": 0,\n",
    "        \"filter_p\": 1,\n",
    "        \"context_string\": None, # TODO\n",
    "        \"assigned_weight\": 2\n",
    "        # Note: I do not give gold answers here because I do not use it for evaluation.\n",
    "        # I could also always access it using task_id.\n",
    "    }\n",
    "\n",
    "    line_without_context = {\n",
    "        \"input_index\": test_problem[\"task_id\"],\n",
    "        \"assigned_model\": \"deepseek-ai/deepseek-coder-6.7b-base\",\n",
    "        \"assigned_process\": 1,\n",
    "        \"context_string\": build_dsc_context(test_problem),\n",
    "        \"assigned_weight\": -1\n",
    "    }"
   ]
  },
  {
   "cell_type": "code",
   "execution_count": 6,
   "metadata": {},
   "outputs": [],
   "source": [
    "test_problem = test_df.iloc[0]"
   ]
  },
  {
   "cell_type": "code",
   "execution_count": 14,
   "metadata": {},
   "outputs": [
    {
     "name": "stdout",
     "output_type": "stream",
     "text": [
      "You are an AI programming assistant, utilizing the DeepSeek Coder model, developed by DeepSeek Company, and you only answer questions related to computer science. For politically sensitive questions, security and privacy issues, and other non-computer science questions, you will refuse to answer.\n",
      "### Instruction:\n",
      "You are an expert code developer with years of experience.\n",
      "\n",
      "As an expert code developer with years of experience, please provide the python code based on the question. Ensure the code is enclosed within triple backticks (```) to mark the start and end of the code block.\n",
      "\n",
      "QUESTION:\n",
      "An accordion is a string (yes, in the real world accordions are musical instruments, but let's forget about it for a while) which can be represented as a concatenation of: an opening bracket (ASCII code $091$), a colon (ASCII code $058$), some (possibly zero) vertical line characters (ASCII code $124$), another colon, and a closing bracket (ASCII code $093$). The length of the accordion is the number of characters in it.\n",
      "\n",
      "For example, [::], [:||:] and [:|||:] are accordions having length $4$, $6$ and $7$. (:|:), {:||:}, [:], ]:||:[ are not accordions. \n",
      "\n",
      "You are given a string $s$. You want to transform it into an accordion by removing some (possibly zero) characters from it. Note that you may not insert new characters or reorder existing ones. Is it possible to obtain an accordion by removing characters from $s$, and if so, what is the maximum possible length of the result?\n",
      "\n",
      "\n",
      "-----Input-----\n",
      "\n",
      "The only line contains one string $s$ ($1 \\le |s| \\le 500000$). It consists of lowercase Latin letters and characters [, ], : and |.\n",
      "\n",
      "\n",
      "-----Output-----\n",
      "\n",
      "If it is not possible to obtain an accordion by removing some characters from $s$, print $-1$. Otherwise print maximum possible length of the resulting accordion.\n",
      "\n",
      "\n",
      "-----Examples-----\n",
      "Input\n",
      "|[a:b:|]\n",
      "\n",
      "Output\n",
      "4\n",
      "\n",
      "Input\n",
      "|]:[|:]\n",
      "\n",
      "Output\n",
      "-1\n",
      "Please write your code using Standard Input, i.e. input() and print().\n",
      "### Response:\n",
      "\n"
     ]
    }
   ],
   "source": [
    "prompt = build_dsc_context(test_problem)\n",
    "print(prompt)"
   ]
  },
  {
   "cell_type": "code",
   "execution_count": 17,
   "metadata": {},
   "outputs": [],
   "source": [
    "train_problems = train_df.sample(n=num_shots)"
   ]
  },
  {
   "cell_type": "code",
   "execution_count": 21,
   "metadata": {},
   "outputs": [
    {
     "data": {
      "text/plain": [
       "task_id                                                      4642\n",
       "fn_name                                          calculate_damage\n",
       "input_sample                             ['grass', 'fire', 35, 5]\n",
       "question        It's a Pokemon battle! Your task is to calcula...\n",
       "solutions       [import math\\n\\neffectiveness = {\\n    \"electr...\n",
       "difficulty                                           introductory\n",
       "url             https://www.codewars.com/kata/536e9a7973130a06...\n",
       "Name: 4642, dtype: object"
      ]
     },
     "execution_count": 21,
     "metadata": {},
     "output_type": "execute_result"
    }
   ],
   "source": [
    "train_problems.iloc[1]"
   ]
  },
  {
   "cell_type": "code",
   "execution_count": null,
   "metadata": {},
   "outputs": [],
   "source": []
  }
 ],
 "metadata": {
  "kernelspec": {
   "display_name": "rosa-3.10",
   "language": "python",
   "name": "python3"
  },
  "language_info": {
   "codemirror_mode": {
    "name": "ipython",
    "version": 3
   },
   "file_extension": ".py",
   "mimetype": "text/x-python",
   "name": "python",
   "nbconvert_exporter": "python",
   "pygments_lexer": "ipython3",
   "version": "3.10.14"
  }
 },
 "nbformat": 4,
 "nbformat_minor": 2
}
